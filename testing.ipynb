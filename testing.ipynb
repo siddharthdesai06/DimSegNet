{
 "cells": [
  {
   "cell_type": "code",
   "execution_count": null,
   "metadata": {},
   "outputs": [],
   "source": [
    "import numpy as np"
   ]
  },
  {
   "cell_type": "code",
   "execution_count": null,
   "metadata": {},
   "outputs": [],
   "source": [
    "def calculate_iou_mask(mask1, mask2):\n",
    "    # mask1 and mask2 should be binary numpy arrays of the same shape\n",
    "    intersection = np.logical_and(mask1, mask2).sum()\n",
    "    union = np.logical_or(mask1, mask2).sum()\n",
    "    iou = intersection / union\n",
    "    return iou\n",
    "\n",
    "def iou_of_mask_sets(set1_masks, set2_masks):\n",
    "    ious = []\n",
    "    \n",
    "    # Ensure the sets are of equal length or handle differently if not\n",
    "    assert len(set1_masks) == len(set2_masks), \"Sets must have the same number of images\"\n",
    "    \n",
    "    for mask1, mask2 in zip(set1_masks, set2_masks):\n",
    "        iou = calculate_iou_mask(mask1, mask2)\n",
    "        ious.append(iou)"
   ]
  },
  {
   "cell_type": "code",
   "execution_count": null,
   "metadata": {},
   "outputs": [
    {
     "name": "stdout",
     "output_type": "stream",
     "text": [
      "IoU: 0.8375\n"
     ]
    }
   ],
   "source": [
    "import numpy as np\n",
    "from PIL import Image\n",
    "\n",
    "def load_binary_mask(image_path, target_size=None):\n",
    "    image = Image.open(image_path).convert(\"L\")  # Convert to grayscale\n",
    "\n",
    "    # Resize if target_size is provided\n",
    "    if target_size:\n",
    "        image = image.resize(target_size, Image.NEAREST)\n",
    "\n",
    "    mask = np.array(image)  # Convert to NumPy array\n",
    "    mask = (mask > 128).astype(np.uint8)  # Threshold to create binary mask (0 or 1)\n",
    "    return mask\n",
    "\n",
    "def calculate_iou_from_paths(mask1_path, mask2_path):\n",
    "    # Load first mask and get its size\n",
    "    mask1 = load_binary_mask(mask1_path)\n",
    "    h, w = mask1.shape  # Get height and width of first mask\n",
    "\n",
    "    # Load second mask with resizing to match first mask's size\n",
    "    mask2 = load_binary_mask(mask2_path, target_size=(w, h))\n",
    "\n",
    "    # Compute IoU\n",
    "    intersection = np.logical_and(mask1, mask2).sum()\n",
    "    union = np.logical_or(mask1, mask2).sum()\n",
    "    \n",
    "    iou = intersection / union if union > 0 else 0  # Avoid division by zero\n",
    "    return iou\n",
    "\n",
    "# Example usage:\n",
    "mask1_path = \"/home/siddharth/siddharth/thesis/Yolo_segmentation/test_2.jpg\"\n",
    "mask2_path = \"/home/siddharth/siddharth/thesis/Yolo_segmentation/eval_datasets/teatime/test_mask/2/apple.png\"\n",
    "\n",
    "iou_value = calculate_iou_from_paths(mask1_path, mask2_path)\n",
    "print(f\"IoU: {iou_value:.4f}\")\n"
   ]
  },
  {
   "cell_type": "code",
   "execution_count": null,
   "metadata": {},
   "outputs": [],
   "source": []
  }
 ],
 "metadata": {
  "kernelspec": {
   "display_name": "yolo12",
   "language": "python",
   "name": "python3"
  },
  "language_info": {
   "codemirror_mode": {
    "name": "ipython",
    "version": 3
   },
   "file_extension": ".py",
   "mimetype": "text/x-python",
   "name": "python",
   "nbconvert_exporter": "python",
   "pygments_lexer": "ipython3",
   "version": "3.9.21"
  }
 },
 "nbformat": 4,
 "nbformat_minor": 2
}
