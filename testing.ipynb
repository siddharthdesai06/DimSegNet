{
 "cells": [
  {
   "cell_type": "code",
   "execution_count": null,
   "metadata": {},
   "outputs": [],
   "source": [
    "import numpy as np"
   ]
  },
  {
   "cell_type": "code",
   "execution_count": null,
   "metadata": {},
   "outputs": [],
   "source": [
    "def calculate_iou_mask(mask1, mask2):\n",
    "    # mask1 and mask2 should be binary numpy arrays of the same shape\n",
    "    intersection = np.logical_and(mask1, mask2).sum()\n",
    "    union = np.logical_or(mask1, mask2).sum()\n",
    "    iou = intersection / union\n",
    "    return iou\n",
    "\n",
    "def iou_of_mask_sets(set1_masks, set2_masks):\n",
    "    ious = []\n",
    "    \n",
    "    # Ensure the sets are of equal length or handle differently if not\n",
    "    assert len(set1_masks) == len(set2_masks), \"Sets must have the same number of images\"\n",
    "    \n",
    "    for mask1, mask2 in zip(set1_masks, set2_masks):\n",
    "        iou = calculate_iou_mask(mask1, mask2)\n",
    "        ious.append(iou)"
   ]
  },
  {
   "cell_type": "code",
   "execution_count": null,
   "metadata": {},
   "outputs": [],
   "source": []
  }
 ],
 "metadata": {
  "kernelspec": {
   "display_name": "yolo12",
   "language": "python",
   "name": "python3"
  },
  "language_info": {
   "codemirror_mode": {
    "name": "ipython",
    "version": 3
   },
   "file_extension": ".py",
   "mimetype": "text/x-python",
   "name": "python",
   "nbconvert_exporter": "python",
   "pygments_lexer": "ipython3",
   "version": "3.9.21"
  }
 },
 "nbformat": 4,
 "nbformat_minor": 2
}
