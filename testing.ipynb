{
 "cells": [
  {
   "cell_type": "code",
   "execution_count": null,
   "metadata": {},
   "outputs": [],
   "source": [
    "import numpy as np"
   ]
  },
  {
   "cell_type": "code",
   "execution_count": null,
   "metadata": {},
   "outputs": [],
   "source": [
    "def calculate_iou_mask(mask1, mask2):\n",
    "    # mask1 and mask2 should be binary numpy arrays of the same shape\n",
    "    intersection = np.logical_and(mask1, mask2).sum()\n",
    "    union = np.logical_or(mask1, mask2).sum()\n",
    "    iou = intersection / union\n",
    "    return iou\n",
    "\n",
    "def iou_of_mask_sets(set1_masks, set2_masks):\n",
    "    ious = []\n",
    "    \n",
    "    # Ensure the sets are of equal length or handle differently if not\n",
    "    assert len(set1_masks) == len(set2_masks), \"Sets must have the same number of images\"\n",
    "    \n",
    "    for mask1, mask2 in zip(set1_masks, set2_masks):\n",
    "        iou = calculate_iou_mask(mask1, mask2)\n",
    "        ious.append(iou)"
   ]
  },
  {
   "cell_type": "code",
   "execution_count": 17,
   "metadata": {},
   "outputs": [
    {
     "ename": "FileNotFoundError",
     "evalue": "[Errno 2] No such file or directory: '/home/siddharth/siddharth/thesis/Yolo_segmentation/eval_datasets/teatime/test_mask/1/apple.png'",
     "output_type": "error",
     "traceback": [
      "\u001b[0;31m---------------------------------------------------------------------------\u001b[0m",
      "\u001b[0;31mFileNotFoundError\u001b[0m                         Traceback (most recent call last)",
      "Cell \u001b[0;32mIn[17], line 50\u001b[0m\n\u001b[1;32m     47\u001b[0m mask1_path \u001b[38;5;241m=\u001b[39m \u001b[38;5;124m\"\u001b[39m\u001b[38;5;124m/home/siddharth/siddharth/thesis/Yolo_segmentation/eval_datasets/teatime/test_mask/1/apple.png\u001b[39m\u001b[38;5;124m\"\u001b[39m\n\u001b[1;32m     48\u001b[0m mask2_path \u001b[38;5;241m=\u001b[39m \u001b[38;5;124m\"\u001b[39m\u001b[38;5;124m/home/siddharth/siddharth/thesis/Yolo_segmentation/test_1.jpg\u001b[39m\u001b[38;5;124m\"\u001b[39m\n\u001b[0;32m---> 50\u001b[0m iou_value \u001b[38;5;241m=\u001b[39m \u001b[43mcalculate_iou_from_paths\u001b[49m\u001b[43m(\u001b[49m\u001b[43mmask1_path\u001b[49m\u001b[43m,\u001b[49m\u001b[43m \u001b[49m\u001b[43mmask2_path\u001b[49m\u001b[43m)\u001b[49m\n\u001b[1;32m     51\u001b[0m \u001b[38;5;28mprint\u001b[39m(\u001b[38;5;124mf\u001b[39m\u001b[38;5;124m\"\u001b[39m\u001b[38;5;124mIoU: \u001b[39m\u001b[38;5;132;01m{\u001b[39;00miou_value\u001b[38;5;132;01m:\u001b[39;00m\u001b[38;5;124m.4f\u001b[39m\u001b[38;5;132;01m}\u001b[39;00m\u001b[38;5;124m\"\u001b[39m)\n",
      "Cell \u001b[0;32mIn[17], line 21\u001b[0m, in \u001b[0;36mcalculate_iou_from_paths\u001b[0;34m(mask1_path, mask2_path)\u001b[0m\n\u001b[1;32m     19\u001b[0m \u001b[38;5;28;01mdef\u001b[39;00m\u001b[38;5;250m \u001b[39m\u001b[38;5;21mcalculate_iou_from_paths\u001b[39m(mask1_path, mask2_path):\n\u001b[1;32m     20\u001b[0m     \u001b[38;5;66;03m# Load first mask and get its size\u001b[39;00m\n\u001b[0;32m---> 21\u001b[0m     mask1 \u001b[38;5;241m=\u001b[39m \u001b[43mload_binary_mask\u001b[49m\u001b[43m(\u001b[49m\u001b[43mmask1_path\u001b[49m\u001b[43m)\u001b[49m\n\u001b[1;32m     22\u001b[0m     h, w \u001b[38;5;241m=\u001b[39m mask1\u001b[38;5;241m.\u001b[39mshape  \u001b[38;5;66;03m# Get height and width of first mask\u001b[39;00m\n\u001b[1;32m     24\u001b[0m     \u001b[38;5;66;03m# Load second mask with resizing to match first mask's size\u001b[39;00m\n",
      "Cell \u001b[0;32mIn[17], line 7\u001b[0m, in \u001b[0;36mload_binary_mask\u001b[0;34m(image_path, target_size)\u001b[0m\n\u001b[1;32m      6\u001b[0m \u001b[38;5;28;01mdef\u001b[39;00m\u001b[38;5;250m \u001b[39m\u001b[38;5;21mload_binary_mask\u001b[39m(image_path, target_size\u001b[38;5;241m=\u001b[39m\u001b[38;5;28;01mNone\u001b[39;00m):\n\u001b[0;32m----> 7\u001b[0m     image \u001b[38;5;241m=\u001b[39m \u001b[43mImage\u001b[49m\u001b[38;5;241;43m.\u001b[39;49m\u001b[43mopen\u001b[49m\u001b[43m(\u001b[49m\u001b[43mimage_path\u001b[49m\u001b[43m)\u001b[49m\u001b[38;5;241m.\u001b[39mconvert(\u001b[38;5;124m\"\u001b[39m\u001b[38;5;124mL\u001b[39m\u001b[38;5;124m\"\u001b[39m)  \u001b[38;5;66;03m# Convert to grayscale\u001b[39;00m\n\u001b[1;32m      9\u001b[0m     \u001b[38;5;66;03m# Resize if target_size is provided\u001b[39;00m\n\u001b[1;32m     10\u001b[0m     \u001b[38;5;28;01mif\u001b[39;00m target_size:\n",
      "File \u001b[0;32m~/anaconda3/envs/yolo12/lib/python3.9/site-packages/PIL/Image.py:3465\u001b[0m, in \u001b[0;36mopen\u001b[0;34m(fp, mode, formats)\u001b[0m\n\u001b[1;32m   3462\u001b[0m     filename \u001b[38;5;241m=\u001b[39m os\u001b[38;5;241m.\u001b[39mfspath(fp)\n\u001b[1;32m   3464\u001b[0m \u001b[38;5;28;01mif\u001b[39;00m filename:\n\u001b[0;32m-> 3465\u001b[0m     fp \u001b[38;5;241m=\u001b[39m \u001b[43mbuiltins\u001b[49m\u001b[38;5;241;43m.\u001b[39;49m\u001b[43mopen\u001b[49m\u001b[43m(\u001b[49m\u001b[43mfilename\u001b[49m\u001b[43m,\u001b[49m\u001b[43m \u001b[49m\u001b[38;5;124;43m\"\u001b[39;49m\u001b[38;5;124;43mrb\u001b[39;49m\u001b[38;5;124;43m\"\u001b[39;49m\u001b[43m)\u001b[49m\n\u001b[1;32m   3466\u001b[0m     exclusive_fp \u001b[38;5;241m=\u001b[39m \u001b[38;5;28;01mTrue\u001b[39;00m\n\u001b[1;32m   3467\u001b[0m \u001b[38;5;28;01melse\u001b[39;00m:\n",
      "\u001b[0;31mFileNotFoundError\u001b[0m: [Errno 2] No such file or directory: '/home/siddharth/siddharth/thesis/Yolo_segmentation/eval_datasets/teatime/test_mask/1/apple.png'"
     ]
    }
   ],
   "source": [
    "import numpy as np\n",
    "from PIL import Image\n",
    "import cv2 \n",
    "import matplotlib.pyplot as plt\n",
    "\n",
    "def load_binary_mask(image_path, target_size=None):\n",
    "    image = Image.open(image_path).convert(\"L\")  # Convert to grayscale\n",
    "\n",
    "    # Resize if target_size is provided\n",
    "    if target_size:\n",
    "        image = image.resize(target_size, Image.NEAREST)\n",
    "\n",
    "    # cv2.imshow(\"mask\", image)\n",
    "    # cv2.waitKey(10)\n",
    "    mask = np.array(image)  # Convert to NumPy array\n",
    "    mask = (mask > 128).astype(np.uint8)  # Threshold to create binary mask (0 or 1)\n",
    "    return mask\n",
    "\n",
    "def calculate_iou_from_paths(mask1_path, mask2_path):\n",
    "    # Load first mask and get its size\n",
    "    mask1 = load_binary_mask(mask1_path)\n",
    "    h, w = mask1.shape  # Get height and width of first mask\n",
    "\n",
    "    # Load second mask with resizing to match first mask's size\n",
    "    mask2 = load_binary_mask(mask2_path, target_size=(w, h))\n",
    "\n",
    "    # Compute IoU\n",
    "    intersection = np.logical_and(mask1, mask2)\n",
    "    union = np.logical_or(mask1, mask2)\n",
    "    \n",
    "    iou = np.sum(intersection) / np.sum(union) if np.sum(union) > 0 else 0  # Avoid division by zero\n",
    "    fig,axes = plt.subplots(1,2, figsize=(10,5))\n",
    "    axes[0].imshow(mask1, cmap=\"gray\")\n",
    "    axes[0].set_title(\"Ground_truth_mask\")\n",
    "    axes[0].axis(\"off\")\n",
    "\n",
    "    axes[1].imshow(mask2, cmap=\"gray\")\n",
    "    axes[1].set_title(\"Rendered Mask\")\n",
    "    axes[1].axis(\"off\")\n",
    "\n",
    "    plt.show()\n",
    "\n",
    "\n",
    "    return iou\n",
    "\n",
    "# Example usage:\n",
    "mask1_path = \"/home/siddharth/siddharth/thesis/Yolo_segmentation/eval_datasets/teatime/test_mask/1/apple.png\"\n",
    "mask2_path = \"/home/siddharth/siddharth/thesis/Yolo_segmentation/test_1.jpg\"\n",
    "\n",
    "iou_value = calculate_iou_from_paths(mask1_path, mask2_path)\n",
    "print(f\"IoU: {iou_value:.4f}\")\n"
   ]
  },
  {
   "cell_type": "code",
   "execution_count": null,
   "metadata": {},
   "outputs": [],
   "source": []
  }
 ],
 "metadata": {
  "kernelspec": {
   "display_name": "yolo12",
   "language": "python",
   "name": "python3"
  },
  "language_info": {
   "codemirror_mode": {
    "name": "ipython",
    "version": 3
   },
   "file_extension": ".py",
   "mimetype": "text/x-python",
   "name": "python",
   "nbconvert_exporter": "python",
   "pygments_lexer": "ipython3",
   "version": "3.9.21"
  }
 },
 "nbformat": 4,
 "nbformat_minor": 2
}
